{
  "nbformat": 4,
  "nbformat_minor": 0,
  "metadata": {
    "colab": {
      "provenance": [],
      "authorship_tag": "ABX9TyO+HnnIG2s2rvvpBggZNIj5",
      "include_colab_link": true
    },
    "kernelspec": {
      "name": "python3",
      "display_name": "Python 3"
    },
    "language_info": {
      "name": "python"
    }
  },
  "cells": [
    {
      "cell_type": "markdown",
      "metadata": {
        "id": "view-in-github",
        "colab_type": "text"
      },
      "source": [
        "<a href=\"https://colab.research.google.com/github/callejas-omar/Metodos-Numericos1/blob/main/Eliminacion%20Gaussiana.ipynb\" target=\"_parent\"><img src=\"https://colab.research.google.com/assets/colab-badge.svg\" alt=\"Open In Colab\"/></a>"
      ]
    },
    {
      "cell_type": "markdown",
      "source": [
        "#Eliminacion Gaussina\n",
        "La Eliminación Gaussiana es un método para resolver sistemas de ecuaciones lineales. Se basa en la idea de transformar el sistema original en un sistema equivalente más fácil de resolver. Esto se logra mediante la aplicación de operaciones elementales de fila a la matriz aumentada del sistema. \\\n",
        "Lo pasos a seguir para realizar este proceso son:\n",
        "\n",
        "1.  Escribir la matriz aumentanda del sistema.\n",
        "2.   Transformar en una matriz triangular superior.\n",
        "3.   Aplicar sustitucion hacia atras.\n",
        "\n",
        "Al tener ya en la diagonal los numerons \"1\", poodemos empezar a sustituir los demas valores en el resto del sistema.\n",
        "\n"
      ],
      "metadata": {
        "id": "Bub5q-2AO7CG"
      }
    },
    {
      "source": [
        "import numpy as np\n",
        "\n",
        "# Define la matriz de coeficientes y el vector de términos independientes\n",
        "A = np.array([[1, -1, 2, -1],\n",
        "              [2, -2, 3, -3],\n",
        "              [1, 1, 1, 0],\n",
        "              [1, -1, 4, 3]])\n",
        "b = np.array([-8, -20, -2, 4])\n",
        "\n",
        "# Implementa la eliminación gaussiana\n",
        "n = len(b)  # Obtiene numer dede incognitas.\n",
        "for i in range(n):\n",
        "    # Encuentra el pivote\n",
        "    pivot = A[i, i]\n",
        "    if pivot == 0:\n",
        "        # Si el pivote es cero, intercambia filas\n",
        "        for j in range(i + 1, n):\n",
        "            if A[j, i] != 0:\n",
        "                A[[i, j]] = A[[j, i]]\n",
        "                b[[i, j]] = b[[j, i]]\n",
        "                pivot = A[i, i]\n",
        "                break\n",
        "        if pivot == 0:\n",
        "            # Si no se encuentra un pivote, el sistema no tiene solución única\n",
        "            raise ValueError(\"El sistema no tiene solución única\")\n",
        "\n",
        "    # Elimina los elementos debajo del pivote\n",
        "    for j in range(i + 1, n):\n",
        "        factor = A[j, i] / pivot\n",
        "        A[j, :] = A[j, :] - factor * A[i, :]\n",
        "        b[j] = b[j] - factor * b[i]\n",
        "\n",
        "# Resuelve el sistema por sustitución hacia atrás\n",
        "x = np.zeros(n)\n",
        "for i in range(n - 1, -1, -1):\n",
        "    x[i] = (b[i] - np.sum(A[i, i + 1:] * x[i + 1:])) / A[i, i]\n",
        "\n",
        "# Imprime las soluciones\n",
        "print(\"Solución:\")\n",
        "for i in range(n):\n",
        "    print(f\"x{i + 1} = {x[i]}\")"
      ],
      "cell_type": "code",
      "metadata": {
        "colab": {
          "base_uri": "https://localhost:8080/"
        },
        "id": "lIXU0A7SLRg0",
        "outputId": "a4773b97-a914-4861-d2e1-5bd065547e87"
      },
      "execution_count": 1,
      "outputs": [
        {
          "output_type": "stream",
          "name": "stdout",
          "text": [
            "Solución:\n",
            "x1 = -7.0\n",
            "x2 = 3.0\n",
            "x3 = 2.0\n",
            "x4 = 2.0\n"
          ]
        }
      ]
    },
    {
      "cell_type": "code",
      "source": [],
      "metadata": {
        "id": "BQyU6EquLSHW"
      },
      "execution_count": null,
      "outputs": []
    }
  ]
}