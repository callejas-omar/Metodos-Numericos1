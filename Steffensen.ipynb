{
  "nbformat": 4,
  "nbformat_minor": 0,
  "metadata": {
    "colab": {
      "provenance": [],
      "authorship_tag": "ABX9TyNjfaSlK4znaYBfFoxqvZQA",
      "include_colab_link": true
    },
    "kernelspec": {
      "name": "python3",
      "display_name": "Python 3"
    },
    "language_info": {
      "name": "python"
    }
  },
  "cells": [
    {
      "cell_type": "markdown",
      "metadata": {
        "id": "view-in-github",
        "colab_type": "text"
      },
      "source": [
        "<a href=\"https://colab.research.google.com/github/callejas-omar/Metodos-Numericos1/blob/main/Steffensen.ipynb\" target=\"_parent\"><img src=\"https://colab.research.google.com/assets/colab-badge.svg\" alt=\"Open In Colab\"/></a>"
      ]
    },
    {
      "cell_type": "code",
      "execution_count": null,
      "metadata": {
        "id": "TKteaOaUaXXz"
      },
      "outputs": [],
      "source": [
        "from math import *\n",
        "import numpy as np\n",
        "import matplotlib . pyplot as plt"
      ]
    },
    {
      "cell_type": "markdown",
      "source": [
        "En este codigo, se empleara el metodo de *Steffensen* que es una modificación del metodo de *Aitken* , los cuales sirven para para resolver ecuaciones no lineales.\n",
        " \\\\\n",
        " En este caso probraremos con: \\\\\n",
        " $f(x) = cos(x) - 2x + 3 = 0$\n",
        "  \\\\\n",
        "  Calcularemos una raiz con una aproximacion de *0.00001*."
      ],
      "metadata": {
        "id": "2X7HEvgSbRV4"
      }
    },
    {
      "cell_type": "code",
      "source": [
        "def f(x):\n",
        "    return cos(x)-2*x+3"
      ],
      "metadata": {
        "id": "TTQS1WSxdpOh"
      },
      "execution_count": null,
      "outputs": []
    },
    {
      "cell_type": "markdown",
      "source": [
        "Para empezara usar este metodo, necesitamos el valor de $f(x0)$ donde $x0$ sera valor del punto actual. \\\\\n",
        "Conociendo este valor necesitamos aplicar la siguiente formula: \\\\\n",
        "$f(x0 + f(x0)) - f(x0)$ y esto tiene que ser distinto de cero, esto debido a que es parte de la siguiente formula: \\\\\n",
        " $\\frac{-f(x0)^2}{f(x0 + f(x0)) - f(x0)}$ \\\\\n",
        "Esta formula nos ayuda a poder conseguir un segundo valor de $x0$ al cual llamaremos $x1$. \\\\\n",
        "Haremos esto hasta que nuestro error sea de $0.00001$ y la formula para calcular el error sera... \\\\\n",
        "$Error = | x1 - x0 |$"
      ],
      "metadata": {
        "id": "vYv9DVgngNV7"
      }
    },
    {
      "cell_type": "code",
      "source": [
        "def steffensen(x0, tol=1e-5, max_iter=100): #Definicion del metodo de Sterffesen\n",
        "    print(f\"{'Iteracion    ':<10}{'x':<15}{'f(x)':<15}{'Error':<15}\") #Encabezado de la tabla\n",
        "\n",
        "    for i in range(max_iter):\n",
        "        g_x0 = f(x0)\n",
        "\n",
        "        #Evitamos la division en Cero\n",
        "        if abs(g_x0) > tol:\n",
        "           #print(f\"{i:<10}{x0:<15.5f}{g_x0:<15.5f}{'0.00001':<15}\")\n",
        "           pass # continuamos con la iteracion\n",
        "        else: # condicion de convergencia\n",
        "            print(f\"{i:<10}{x0:<15.5f}{g_x0:<15.5f}{'0.00001':<15}\")\n",
        "            return x0, i #X0 raiz encontrada, i numero de iteraciones\n",
        "\n",
        "        g_x0_plus_g = f(x0 + g_x0)\n",
        "        denominator = g_x0_plus_g - g_x0\n",
        "\n",
        "        if denominator == 0:\n",
        "            print(\"No se puede aplicar el metodo de Steffensen\")\n",
        "            return None\n",
        "\n",
        "        #Calculamos una nueva aproximacion.\n",
        "        x1 = x0 - ((g_x0 ** 2) / denominator)\n",
        "        error = abs(x1 - x0) #Error actual\n",
        "\n",
        "        #Iteracion Actual, valor de x , error con 5 decimales\n",
        "        print(f\"{i:<10}{x0:<15.5f}{g_x0:<15.5f}{error:<15.5f}\")\n",
        "\n",
        "        if error < tol: #Error menor a la tolerancia\n",
        "            return x1, i\n",
        "\n",
        "        x0 = x1 #Se actualiza x0 para la siguiente iteracion\n",
        "\n",
        "    return None, max_iter # return after max iterations are reached.\n",
        "\n",
        "#Valor inicial y llamamosal metodo a utilizar\n",
        "x0 = 0 #Puede variar\n",
        "raiz, iteraciones = steffensen(x0, tol=1e-5)\n",
        "\n",
        "#Resultado\n",
        "if raiz is not None:\n",
        "    print(f\"Raiz aproximada: {raiz:.5f}\")\n",
        "    print(f\"Numero de iteraciones: {iteraciones}\")\n",
        "else:\n",
        "    print(\"No se pudo encontrar una raiz aproximada.\")"
      ],
      "metadata": {
        "colab": {
          "base_uri": "https://localhost:8080/"
        },
        "id": "3Ho3cpgYjPLk",
        "outputId": "5b47acf6-a50c-4f07-fc07-998aff64f2bc"
      },
      "execution_count": null,
      "outputs": [
        {
          "output_type": "stream",
          "name": "stdout",
          "text": [
            "Iteracion    x              f(x)           Error          \n",
            "0         0.00000        4.00000        1.65741        \n",
            "1         1.65741        -0.40131       0.13436        \n",
            "2         1.52305        0.00164        0.00055        \n",
            "3         1.52359        0.00000        0.00001        \n",
            "Raiz aproximada: 1.52359\n",
            "Numero de iteraciones: 3\n"
          ]
        }
      ]
    },
    {
      "cell_type": "markdown",
      "source": [
        "Aqui $x$ serian los valores de las raices aproximadas, $f(x)$ es nuestra funcion evaluada en las raices aproximadas $\"x\"$, si los valores de $f(x)$ es menor a la $tolerancia$ entonces es nuestra raiz aproximada con un error de $0.00001$"
      ],
      "metadata": {
        "id": "wnazN-Y5rpdd"
      }
    }
  ]
}