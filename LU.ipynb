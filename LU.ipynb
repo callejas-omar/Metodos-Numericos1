{
  "nbformat": 4,
  "nbformat_minor": 0,
  "metadata": {
    "colab": {
      "provenance": [],
      "authorship_tag": "ABX9TyPdnu3frVqPQpd/cghRes/5",
      "include_colab_link": true
    },
    "kernelspec": {
      "name": "python3",
      "display_name": "Python 3"
    },
    "language_info": {
      "name": "python"
    }
  },
  "cells": [
    {
      "cell_type": "markdown",
      "metadata": {
        "id": "view-in-github",
        "colab_type": "text"
      },
      "source": [
        "<a href=\"https://colab.research.google.com/github/callejas-omar/Metodos-Numericos1/blob/main/LU.ipynb\" target=\"_parent\"><img src=\"https://colab.research.google.com/assets/colab-badge.svg\" alt=\"Open In Colab\"/></a>"
      ]
    },
    {
      "source": [
        "import numpy as np\n",
        "import scipy.linalg\n",
        "\n",
        "def lu_solve(A, b):\n",
        "    \"\"\"Resuelve un sistema de ecuaciones lineales Ax = b usando la factorización LU.\n",
        "\n",
        "    Args:\n",
        "        A: Una matriz NumPy cuadrada que representa la matriz de coeficientes.\n",
        "        b: Un array NumPy que representa el vector constante.\n",
        "\n",
        "    Returns:\n",
        "        Un array NumPy que representa el vector solución x.\n",
        "    \"\"\"\n",
        "    # Obtener la factorización LU de A\n",
        "    P, L, U = scipy.linalg.lu(A)\n",
        "\n",
        "    # Resolver Ly = Pb para y usando sustitución hacia adelante\n",
        "    y = scipy.linalg.solve_triangular(L, P @ b, lower=True)\n",
        "\n",
        "    # Resolver Ux = y para x usando sustitución hacia atrás\n",
        "    x = scipy.linalg.solve_triangular(U, y, lower=False)\n",
        "\n",
        "    return x\n",
        "\n",
        "# Ejemplo de uso\n",
        "A = np.array([[1, 1, 0, 3],\n",
        "              [2, 1, -1, 1],\n",
        "              [3, -1, -1, 2],\n",
        "              [-1, 2, 3, -1]])\n",
        "b = np.array([4, 1, -3, -4])\n",
        "\n",
        "# Calcular la solución\n",
        "x = lu_solve(A, b)\n",
        "\n",
        "# Imprimir la solución\n",
        "print(\"Solución:\")\n",
        "for i, val in enumerate(x):\n",
        "    print(f\"x{i+1} = {val}\")"
      ],
      "cell_type": "code",
      "metadata": {
        "colab": {
          "base_uri": "https://localhost:8080/"
        },
        "id": "WTJG4r9WrSjE",
        "outputId": "db787292-4dcb-4018-b060-70f4a0839854"
      },
      "execution_count": 1,
      "outputs": [
        {
          "output_type": "stream",
          "name": "stdout",
          "text": [
            "Solución:\n",
            "x1 = -1.2820512820512824\n",
            "x2 = 3.205128205128205\n",
            "x3 = -3.6666666666666665\n",
            "x4 = -0.30769230769230727\n"
          ]
        }
      ]
    }
  ]
}