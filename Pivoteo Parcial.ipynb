{
  "nbformat": 4,
  "nbformat_minor": 0,
  "metadata": {
    "colab": {
      "provenance": [],
      "authorship_tag": "ABX9TyO5ntSg/d6VOrQr5eRh2800",
      "include_colab_link": true
    },
    "kernelspec": {
      "name": "python3",
      "display_name": "Python 3"
    },
    "language_info": {
      "name": "python"
    }
  },
  "cells": [
    {
      "cell_type": "markdown",
      "metadata": {
        "id": "view-in-github",
        "colab_type": "text"
      },
      "source": [
        "<a href=\"https://colab.research.google.com/github/callejas-omar/Metodos-Numericos1/blob/main/Pivoteo%20Parcial.ipynb\" target=\"_parent\"><img src=\"https://colab.research.google.com/assets/colab-badge.svg\" alt=\"Open In Colab\"/></a>"
      ]
    },
    {
      "cell_type": "markdown",
      "source": [
        " $\"Pivoteo Parcial\"$ \\\\\n",
        " Este método busca el elemento con el mayor valor absoluto en la\n",
        "  columna actual (desde la fila actual hacia abajo) y lo utiliza como\n",
        "  pivote. Si el elemento pivote encontrado no está en la fila actual,\n",
        "  se intercambian las filas para colocarlo en la posición correcta.\n",
        "  Luego, se realiza la eliminación gaussiana para hacer ceros debajo\n",
        "  del pivote en la columna actual. Finalmente, se utiliza la\n",
        "  sustitución hacia atrás para calcular los valores de las incógnitas. \\\\\n",
        "  Este metodo de otra forma, es hacer el metodo conocido com $\"Gauss - Jordan\"$ pero utilizando $sustitucion hacia atras$.\n",
        "  "
      ],
      "metadata": {
        "id": "9Q1jOHK8C3oH"
      }
    },
    {
      "source": [
        "import numpy as np\n",
        "\n",
        "def pivoteo_parcial(A, b):\n",
        "  \"\"\"\n",
        "  Resuelve un sistema de ecuaciones lineales por pivoteo parcial.\n",
        "\n",
        "  Args:\n",
        "    A: La matriz de coeficientes.\n",
        "    b: El vector de términos independientes.\n",
        "\n",
        "  Returns:\n",
        "    La solución del sistema de ecuaciones.\n",
        "  \"\"\"\n",
        "  n = len(A)\n",
        "  x = np.zeros(n)\n",
        "\n",
        "  # Eliminación hacia adelante\n",
        "  for k in range(n - 1):\n",
        "    # Encuentra el pivote\n",
        "    max_index = k\n",
        "    for i in range(k + 1, n):\n",
        "      if abs(A[i][k]) > abs(A[max_index][k]):\n",
        "        max_index = i\n",
        "\n",
        "    # Intercambia filas si es necesario\n",
        "    if max_index != k:\n",
        "      A[[k, max_index]] = A[[max_index, k]]\n",
        "      b[[k, max_index]] = b[[max_index, k]]\n",
        "\n",
        "    # Elimina\n",
        "    for i in range(k + 1, n):\n",
        "      factor = A[i][k] / A[k][k]\n",
        "      for j in range(k, n):\n",
        "        A[i][j] -= factor * A[k][j]\n",
        "      b[i] -= factor * b[k]\n",
        "\n",
        "  # Sustitución hacia atrás\n",
        "  x[n - 1] = b[n - 1] / A[n - 1][n - 1]\n",
        "  for i in range(n - 2, -1, -1):\n",
        "    suma = 0\n",
        "    for j in range(i + 1, n):\n",
        "      suma += A[i][j] * x[j]\n",
        "    x[i] = (b[i] - suma) / A[i][i]\n",
        "\n",
        "  return x\n",
        "\n",
        "# Define la matriz de coeficientes y el vector de términos independientes\n",
        "A = np.array([[2.11, -4.21, 0.921],\n",
        "              [4.01, 10.2, -1.12],\n",
        "              [1.09, 0.987, 0.832]])\n",
        "b = np.array([2.01, -3.09, 4.21])\n",
        "\n",
        "# Resuelve el sistema de ecuaciones\n",
        "x = pivoteo_parcial(A, b)\n",
        "\n",
        "# Imprime la solución con etiquetas\n",
        "print(\"Soluciones:\")\n",
        "for i in range(len(x)):\n",
        "  print(f\"Solución {i + 1}: {x[i]}\")"
      ],
      "cell_type": "code",
      "metadata": {
        "colab": {
          "base_uri": "https://localhost:8080/"
        },
        "id": "1vPT6YkI_xNr",
        "outputId": "530ed344-dad3-4627-e6d6-285d6cbfacf5"
      },
      "execution_count": 2,
      "outputs": [
        {
          "output_type": "stream",
          "name": "stdout",
          "text": [
            "Soluciones:\n",
            "Solución 1: -0.42800441372587367\n",
            "Solución 2: 0.4269032296075055\n",
            "Solución 3: 5.114388609781965\n"
          ]
        }
      ]
    },
    {
      "cell_type": "code",
      "source": [],
      "metadata": {
        "id": "c1ch_rC5Ajkl"
      },
      "execution_count": null,
      "outputs": []
    }
  ]
}