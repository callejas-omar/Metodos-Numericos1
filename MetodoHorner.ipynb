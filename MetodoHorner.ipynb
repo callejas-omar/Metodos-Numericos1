{
  "nbformat": 4,
  "nbformat_minor": 0,
  "metadata": {
    "colab": {
      "provenance": [],
      "authorship_tag": "ABX9TyMngv/LvCIf7aC208tBNieD",
      "include_colab_link": true
    },
    "kernelspec": {
      "name": "python3",
      "display_name": "Python 3"
    },
    "language_info": {
      "name": "python"
    }
  },
  "cells": [
    {
      "cell_type": "markdown",
      "metadata": {
        "id": "view-in-github",
        "colab_type": "text"
      },
      "source": [
        "<a href=\"https://colab.research.google.com/github/callejas-omar/Metodos-Numericos1/blob/main/MetodoHorner.ipynb\" target=\"_parent\"><img src=\"https://colab.research.google.com/assets/colab-badge.svg\" alt=\"Open In Colab\"/></a>"
      ]
    },
    {
      "cell_type": "markdown",
      "source": [
        "El Metodo De Horner: \\\\\n",
        "Es un algoritmo para evaluar de forma eficiente funciones polinómicas de una forma monomial. \\\\\n",
        "Este codigo trabajara con $f(x)$ y $f'(x)$ respectivamente. \\\\\n",
        "Con un valor inicila de $x = -2$"
      ],
      "metadata": {
        "id": "MSluZKyvd5Xo"
      }
    },
    {
      "source": [
        "def horner_con_derivada(x0, coeficientes):\n",
        "    \"\"\"\n",
        "    Evalúa un polinomio y su primera derivada usando el método de Horner.\n",
        "\n",
        "    Args:\n",
        "        x0: El valor en el que evaluar el polinomio.\n",
        "        coeficientes: Una lista de los coeficientes del polinomio,\n",
        "            comenzando con el coeficiente de la potencia más alta.\n",
        "\n",
        "    \"\"\"\n",
        "\n",
        "    # Valor del polinomio\n",
        "    valor_polinomio = coeficientes[0]\n",
        "    # Valor de la derivada\n",
        "    valor_derivada = 0\n",
        "\n",
        "    for i in range(1, len(coeficientes)):\n",
        "        valor_derivada = valor_derivada * x0 + valor_polinomio\n",
        "        valor_polinomio = valor_polinomio * x0 + coeficientes[i]\n",
        "\n",
        "    return valor_polinomio, valor_derivada\n",
        "\n",
        "# Coeficientes del polinomio f(x) = 2x^4 - 3x^2 + 3x - 4\n",
        "coeficientes = [2, 0, -3, 3, -4]\n",
        "\n",
        "# Valor inicial\n",
        "x0 = -2\n",
        "\n",
        "# Evaluar el polinomio y su derivada usando el método de Horner\n",
        "valor_polinomio, valor_derivada = horner_con_derivada(x0, coeficientes)\n",
        "\n",
        "# Imprimir los resultados\n",
        "print(f\"El valor de f(x) en x0 = {x0} es: {valor_polinomio}\")\n",
        "print(f\"El valor de la derivada de f(x) en x0 = {x0} es: {valor_derivada}\")"
      ],
      "cell_type": "code",
      "metadata": {
        "colab": {
          "base_uri": "https://localhost:8080/"
        },
        "id": "UyxaIquJdiSK",
        "outputId": "66cf859e-8ec0-474c-e247-58ee0f55e062"
      },
      "execution_count": 2,
      "outputs": [
        {
          "output_type": "stream",
          "name": "stdout",
          "text": [
            "El valor de f(x) en x0 = -2 es: 10\n",
            "El valor de la derivada de f(x) en x0 = -2 es: -49\n"
          ]
        }
      ]
    },
    {
      "cell_type": "markdown",
      "source": [
        "Al aplicar este metodo en $f(x)$ lo que se dice es que estamos realizando Divison Sintetica con este, dividendo el Polinomio entre $x = -2$ \\\\\n",
        "Al realizar esta division el polinomio queda como de la siguiente forma: \\\\\n",
        "$f(x) = (x - 2)(2x^3 - 4x^2 +5x - 7) + 10$ \\\\\n",
        "Siendo el ultimo digito ($10$) el resultado de evaluar $x=-2$ en la funcion $f(x)$ \\\\\n",
        "$f(-2) = 2(-2)^4 - 3(-2)^2 + 3(-2) - 4$ \\\\\n",
        "$f(-2) = 2(16) - 3(4) + 3(-2) - 4$ \\\\\n",
        "$f(-2) = 32  - 12 - 6 - 4$ \\\\\n",
        "$f(-2) = 32  - 22$ \\\\\n",
        "$f(-2) = 10$ \\\\\n",
        " \\\\\n",
        "Ahora obtengamos la derivdada de $f(x)$ \\\\\n",
        "Si: \\\\\n",
        "$f(x) = 2x^4 - 3x^2 + 3x - 4$ \\\\\n",
        "\n",
        " Derivamos \\\\\n",
        "\n",
        "$f'(x) = 8x^3 - 6x + 3$ \\\\\n",
        "\n",
        "Ahora Evaluamos con $x=-2$ \\\\\n",
        "\n",
        "\n",
        "$f'(-2) = 8(-2)^3 - 6(-2) + 3$ \\\\\n",
        "\n",
        "$f'(-2) = 8(-8) - 6(-2) + 3$ \\\\\n",
        "\n",
        "$f'(-2) = -64 + 12 + 3$ \\\\\n",
        "\n",
        "$f'(-2) = -64 + 15$ \\\\\n",
        "$f'(-2) = -49$ \\\\"
      ],
      "metadata": {
        "id": "OyaXdaWpgfmw"
      }
    }
  ]
}