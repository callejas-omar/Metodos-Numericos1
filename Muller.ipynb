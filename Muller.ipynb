{
  "nbformat": 4,
  "nbformat_minor": 0,
  "metadata": {
    "colab": {
      "provenance": [],
      "authorship_tag": "ABX9TyMxrUIHwkZRg+rNOZgLHSkd",
      "include_colab_link": true
    },
    "kernelspec": {
      "name": "python3",
      "display_name": "Python 3"
    },
    "language_info": {
      "name": "python"
    }
  },
  "cells": [
    {
      "cell_type": "markdown",
      "metadata": {
        "id": "view-in-github",
        "colab_type": "text"
      },
      "source": [
        "<a href=\"https://colab.research.google.com/github/callejas-omar/Metodos-Numericos1/blob/main/Muller.ipynb\" target=\"_parent\"><img src=\"https://colab.research.google.com/assets/colab-badge.svg\" alt=\"Open In Colab\"/></a>"
      ]
    },
    {
      "cell_type": "code",
      "execution_count": null,
      "metadata": {
        "id": "lApEgyBRrgEJ"
      },
      "outputs": [],
      "source": [
        "import numpy as np"
      ]
    },
    {
      "cell_type": "markdown",
      "source": [
        "El metodo de Muller es un algoritmo iterativo que se utiliza para encontrar raices o aproximacion de una funcion $f(x)$. \\\\\n",
        "Es decir, busca los valores de $x$ para los cuales $f(x) = 0$ \\\\\n",
        "Para usar este proceso se requieren de 3 valores iniciales los cuales llamaremos $x0 , x1, x2$; debido a que, es un poco complicado unir los 3 puntos en una sola recta, los uniremos mediente una parabola. \\\\\n",
        "Para poder unir los punto se necesitan las parejas ordenadas de este, es decir, que sean de la forma $(x,y)$ y para esto evaluaremos $f(x)$ en las 3 aproximaciones iniciales. \\\\\n",
        "Es decir, nos quedarian de la forma.... \\\\\n",
        "$ (x1, f(x1)) , (x2, f(x2)) , (x3, f(x3)) $"
      ],
      "metadata": {
        "id": "VJ1wMs1p8bio"
      }
    },
    {
      "cell_type": "markdown",
      "source": [
        "Teniendo los 3 puntos, se obitienen las diferencias divididas, que son formulas que se usan en el metodo de Muller y estas son: \\\\\n",
        "\n",
        "$h0 = x1 - x0$  \n",
        "\n",
        "$h1 = x2 - x1 $ \\\\\n",
        "$d0 = (f(x1) - f(x0)) / h0$ \\\\\n",
        "$d1 = (f(x2) - f(x1)) / h1 $ \\\\\n",
        "\n",
        "Que en general estas representan las pendietes de las secantes entre ambos puntos. \\\\\n",
        "Ya obteniendo lo anterior, obtenemos los coeficientes de la parabola, recordado que la ecuacion de la parabola es de la forma: \\\\\n",
        "$y = ax^2 + bx + c$ \\\\\n",
        "Obtenemos los coeficientes de la siguiente forma: \\\\\n",
        "$a = (d1 - d0) / (h1 + h0)$ \\\\\n",
        "$b = a * h1 + d1$ \\\\\n",
        "$c = f(x2)$ \\\\"
      ],
      "metadata": {
        "id": "89MUoqez-Z6j"
      }
    },
    {
      "cell_type": "markdown",
      "source": [
        "Se calcula la raiz de la parabola y esta raiz se convertira en nuestr nueva aproximacion $x3$, y el proceso se repite con los nuevos valores ($x1, x2, x3$). Y esto se repite hasta que se entre al rango de la tolerancia permetida, y se dice que hemos encontradao una raiz."
      ],
      "metadata": {
        "id": "Dynm9DhpBEIb"
      }
    },
    {
      "source": [
        "\n",
        "def metodo_muller(f, x0, x1, x2, tol=1e-6, max_iter=100):\n",
        "    # Encuentra una raíz de la función f(x) usando el método de Muller.\n",
        "        # f: La función para la cual encontrar la raíz.\n",
        "        # x0, x1, x2: Tres puntos iniciales.\n",
        "        # tol: La tolerancia para la convergencia.\n",
        "        # max_iter: El número máximo de iteraciones.\n",
        "\n",
        "    for i in range(max_iter):\n",
        "        h0 = x1 - x0 #Diferencia entre el 2° y 1° punto\n",
        "        h1 = x2 - x1 #Diferencia entre el 3° y 2° Punto\n",
        "        #Se evalua f(x) en x0 , x1 y x2 respectivamente\n",
        "        d0 = (f(x1) - f(x0)) / h0  #Pendiente entre el 1° y 2°\n",
        "        d1 = (f(x2) - f(x1)) / h1 #Pendiente entre el 2° y 3°\n",
        "        #Recordando que la ecuacion de la parabola es:\n",
        "        # ax^2 + by + c = 0\n",
        "        # ay^2 + bx + c = 0\n",
        "        a = (d1 - d0) / (h1 + h0) #Coeficiente de a\n",
        "        b = a * h1 + d1 #Coeficiente de b\n",
        "        c = f(x2) #Coeficiente de c, Valor de la funcion en el 3° punto\n",
        "\n",
        "        # Calcula la raíz de la parábola\n",
        "        x3 = x2 - (2 * c) / (b + np.sign(b) * np.sqrt(b**2 - 4 * a * c))\n",
        "\n",
        "        # Verifica la convergencia\n",
        "        if abs(x3 - x2) < tol:\n",
        "            return x3\n",
        "\n",
        "        # Actualiza los puntos\n",
        "        x0, x1, x2 = x1, x2, x3\n",
        "\n",
        "    # Si no se alcanza la convergencia\n",
        "    raise RuntimeError(\"El método de Muller no convergió después de {} iteraciones.\".format(max_iter))\n",
        "\n",
        "# Ejemplo de uso:\n",
        "def f(x):\n",
        "    return x**3 - 13*x - 12\n",
        "\n",
        "# Encuentra una raíz usando el método de Muller\n",
        "x0, x1, x2 = 4.5, 5.5, 5\n",
        "root = metodo_muller(f, x0, x1, x2)\n",
        "\n",
        "print(\"La raíz aproximada es:\", root)"
      ],
      "cell_type": "code",
      "metadata": {
        "colab": {
          "base_uri": "https://localhost:8080/"
        },
        "id": "eqbgs4sJsWnR",
        "outputId": "640dcb69-597c-4967-df32-5eb64fcdd648"
      },
      "execution_count": null,
      "outputs": [
        {
          "output_type": "stream",
          "name": "stdout",
          "text": [
            "La raíz aproximada es: 4.000000000000497\n"
          ]
        }
      ]
    },
    {
      "cell_type": "code",
      "source": [],
      "metadata": {
        "id": "9uWZefFq5lPj"
      },
      "execution_count": null,
      "outputs": []
    }
  ]
}