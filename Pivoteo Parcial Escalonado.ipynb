{
  "nbformat": 4,
  "nbformat_minor": 0,
  "metadata": {
    "colab": {
      "provenance": [],
      "authorship_tag": "ABX9TyMywsSjcPZxmF3LI0w0BGwo",
      "include_colab_link": true
    },
    "kernelspec": {
      "name": "python3",
      "display_name": "Python 3"
    },
    "language_info": {
      "name": "python"
    }
  },
  "cells": [
    {
      "cell_type": "markdown",
      "metadata": {
        "id": "view-in-github",
        "colab_type": "text"
      },
      "source": [
        "<a href=\"https://colab.research.google.com/github/callejas-omar/Metodos-Numericos1/blob/main/Pivoteo%20Parcial%20Escalonado.ipynb\" target=\"_parent\"><img src=\"https://colab.research.google.com/assets/colab-badge.svg\" alt=\"Open In Colab\"/></a>"
      ]
    },
    {
      "cell_type": "markdown",
      "source": [
        "$ \"Pivoteo Parcial Escalonado\" $\\\n",
        "El Pivoteo Parcial Escalonado busca el mejor pivote en cada paso de la eliminación para mejorar la precisión y la estabilidad del proceso de resolución del sistema de ecuaciones. Es una técnica esencial para obtener soluciones más confiables, especialmente cuando se trabaja con sistemas de ecuaciones grandes o mal condicionados."
      ],
      "metadata": {
        "id": "BatBHPoEGCmg"
      }
    },
    {
      "source": [
        "import numpy as np\n",
        "\n",
        "# Define la matriz de coeficientes y el vector de términos independientes\n",
        "A = np.array([[2.11, -4.21, 0.921],\n",
        "              [4.01, 10.2, -1.12],\n",
        "              [1.09, 0.987, 0.832]])\n",
        "b = np.array([2.01, -3.09, 4.21])\n",
        "\n"
      ],
      "cell_type": "code",
      "metadata": {
        "id": "cG3j5kcaFp-N"
      },
      "execution_count": 4,
      "outputs": []
    },
    {
      "cell_type": "markdown",
      "source": [
        "En esta parte del codigo buscamos cual de todos los elementos de la primera columna tiene mayor valor, en este caso, seria $4.01$, asi que se intercambian filas, en este caso serian las primera y la segunda fila. \\\n",
        "Con esto empezamos a hacer la eliminacion gaussiana."
      ],
      "metadata": {
        "id": "6-ba7YMwHDeq"
      }
    },
    {
      "cell_type": "code",
      "source": [
        "# Obtén el tamaño de la matriz\n",
        "n = A.shape[0]\n",
        "\n",
        "# Pivoteo parcial escalonado\n",
        "for k in range(n - 1):\n",
        "    # Encuentra el índice del elemento máximo en la columna actual\n",
        "    max_index = k + np.argmax(np.abs(A[k:, k]))\n",
        "\n",
        "    # Intercambia las filas si es necesario\n",
        "    if max_index != k:\n",
        "        A[[k, max_index]] = A[[max_index, k]]\n",
        "        b[[k, max_index]] = b[[max_index, k]]\n",
        "\n",
        "    # Eliminación hacia adelante\n",
        "    for i in range(k + 1, n):\n",
        "        factor = A[i, k] / A[k, k]\n",
        "        for j in range(k, n):\n",
        "            A[i, j] -= factor * A[k, j]\n",
        "        b[i] -= factor * b[k]\n",
        "\n",
        "# Sustitución hacia atrás\n",
        "x = np.zeros(n)\n",
        "x[n - 1] = b[n - 1] / A[n - 1, n - 1]\n",
        "for i in range(n - 2, -1, -1):\n",
        "    x[i] = (b[i] - np.sum(A[i, i + 1:] * x[i + 1:])) / A[i, i]\n",
        "\n"
      ],
      "metadata": {
        "id": "JYMYxV_yHApV"
      },
      "execution_count": 5,
      "outputs": []
    },
    {
      "cell_type": "markdown",
      "source": [
        "El Pivoteo Parcial Escalonado ayudó a seleccionar los pivotes más grandes en cada paso, lo que lleva a una solución más precisa y estable para el sistema de ecuaciones dado. Sin el pivoteo, la división por números pequeños podría haber introducido errores significativos en los resultados."
      ],
      "metadata": {
        "id": "GRbwUfCoHrE7"
      }
    },
    {
      "cell_type": "code",
      "source": [
        "# Imprime la solución\n",
        "print(\"Soluciones:\")\n",
        "for i in range(n):\n",
        "    print(f\"Solución {i + 1}: x{i + 1} = {x[i]}\")"
      ],
      "metadata": {
        "colab": {
          "base_uri": "https://localhost:8080/"
        },
        "id": "4KDvs_AGHuWx",
        "outputId": "e68903d8-5431-4b54-db1a-4ab3eefeec96"
      },
      "execution_count": 6,
      "outputs": [
        {
          "output_type": "stream",
          "name": "stdout",
          "text": [
            "Soluciones:\n",
            "Solución 1: x1 = -0.42800441372587367\n",
            "Solución 2: x2 = 0.4269032296075055\n",
            "Solución 3: x3 = 5.114388609781965\n"
          ]
        }
      ]
    }
  ]
}