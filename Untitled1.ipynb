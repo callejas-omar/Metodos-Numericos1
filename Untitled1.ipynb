{
  "nbformat": 4,
  "nbformat_minor": 0,
  "metadata": {
    "colab": {
      "provenance": [],
      "authorship_tag": "ABX9TyM+129C1qJP6Nnu+/ghukru",
      "include_colab_link": true
    },
    "kernelspec": {
      "name": "python3",
      "display_name": "Python 3"
    },
    "language_info": {
      "name": "python"
    }
  },
  "cells": [
    {
      "cell_type": "markdown",
      "metadata": {
        "id": "view-in-github",
        "colab_type": "text"
      },
      "source": [
        "<a href=\"https://colab.research.google.com/github/callejas-omar/Metodos-Numericos1/blob/main/Untitled1.ipynb\" target=\"_parent\"><img src=\"https://colab.research.google.com/assets/colab-badge.svg\" alt=\"Open In Colab\"/></a>"
      ]
    },
    {
      "cell_type": "code",
      "source": [
        "!pip install sympy"
      ],
      "metadata": {
        "colab": {
          "base_uri": "https://localhost:8080/"
        },
        "id": "VCeLoaRlI85B",
        "outputId": "d722575c-a551-4fbc-e5d5-117868bc3a64"
      },
      "execution_count": 5,
      "outputs": [
        {
          "output_type": "stream",
          "name": "stdout",
          "text": [
            "Requirement already satisfied: sympy in /usr/local/lib/python3.10/dist-packages (1.13.2)\n",
            "Requirement already satisfied: mpmath<1.4,>=1.1.0 in /usr/local/lib/python3.10/dist-packages (from sympy) (1.3.0)\n"
          ]
        }
      ]
    },
    {
      "cell_type": "code",
      "execution_count": 17,
      "metadata": {
        "colab": {
          "base_uri": "https://localhost:8080/"
        },
        "id": "nieBXlP8GPNl",
        "outputId": "07c721c9-e0a3-42ef-8931-0e2b32d5e8ee"
      },
      "outputs": [
        {
          "output_type": "stream",
          "name": "stdout",
          "text": [
            "exp(x/2)*sin(x/3)/2 + exp(x/2)*cos(x/3)/3\n"
          ]
        }
      ],
      "source": [
        "import sympy as spy\n",
        "\n",
        "x = spy.Symbol('x')\n",
        "f=spy.exp(x/2)*spy.sin(x/3)\n",
        "#Primers Derivada\n",
        "f_uno= spy.diff(f, x)\n",
        "\n",
        "print(f_uno)"
      ]
    },
    {
      "cell_type": "code",
      "source": [],
      "metadata": {
        "id": "wikunDrWToqu"
      },
      "execution_count": null,
      "outputs": []
    },
    {
      "cell_type": "code",
      "source": [],
      "metadata": {
        "id": "Ewkov7ZTO7Ox"
      },
      "execution_count": null,
      "outputs": []
    }
  ]
}