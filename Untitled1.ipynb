{
  "nbformat": 4,
  "nbformat_minor": 0,
  "metadata": {
    "colab": {
      "provenance": [],
      "authorship_tag": "ABX9TyP7bsWpggPtQKPNOFJaKEo0",
      "include_colab_link": true
    },
    "kernelspec": {
      "name": "python3",
      "display_name": "Python 3"
    },
    "language_info": {
      "name": "python"
    }
  },
  "cells": [
    {
      "cell_type": "markdown",
      "metadata": {
        "id": "view-in-github",
        "colab_type": "text"
      },
      "source": [
        "<a href=\"https://colab.research.google.com/github/callejas-omar/Metodos-Numericos1/blob/main/Untitled1.ipynb\" target=\"_parent\"><img src=\"https://colab.research.google.com/assets/colab-badge.svg\" alt=\"Open In Colab\"/></a>"
      ]
    },
    {
      "cell_type": "code",
      "source": [
        "pip install sympy"
      ],
      "metadata": {
        "colab": {
          "base_uri": "https://localhost:8080/"
        },
        "id": "VCeLoaRlI85B",
        "outputId": "fef9f173-52de-4532-b7a4-6b317b7e5f50"
      },
      "execution_count": 7,
      "outputs": [
        {
          "output_type": "stream",
          "name": "stdout",
          "text": [
            "Requirement already satisfied: sympy in /usr/local/lib/python3.10/dist-packages (1.13.2)\n",
            "Requirement already satisfied: mpmath<1.4,>=1.1.0 in /usr/local/lib/python3.10/dist-packages (from sympy) (1.3.0)\n"
          ]
        }
      ]
    },
    {
      "cell_type": "code",
      "execution_count": 46,
      "metadata": {
        "colab": {
          "base_uri": "https://localhost:8080/"
        },
        "id": "nieBXlP8GPNl",
        "outputId": "55a8a23a-aff3-47bd-846f-979c61bf84fd"
      },
      "outputs": [
        {
          "output_type": "stream",
          "name": "stdout",
          "text": [
            "exp(x/2)*sin(x/3)/2 + exp(x/2)*cos(x/3)/3\n"
          ]
        }
      ],
      "source": [
        "import sympy as spy\n",
        "\n",
        "x = spy.Symbol('x')\n",
        "f=spy.exp(x/2)*spy.sin(x/3)\n",
        "#Primers Derivada\n",
        "f_uno= spy.diff(f, x)\n",
        "\n",
        "print(f_uno)"
      ]
    },
    {
      "cell_type": "code",
      "source": [
        "#Segunda Derivada\n",
        "f_dos= spy.diff(f_uno, x)\n",
        "\n",
        "print(f_dos)"
      ],
      "metadata": {
        "id": "wikunDrWToqu",
        "outputId": "9b049510-03da-42e8-ff5b-299b2851081c",
        "colab": {
          "base_uri": "https://localhost:8080/"
        }
      },
      "execution_count": 15,
      "outputs": [
        {
          "output_type": "stream",
          "name": "stdout",
          "text": [
            "5*exp(x/2)*sin(x/3)/36 + exp(x/2)*cos(x/3)/3\n"
          ]
        }
      ]
    },
    {
      "cell_type": "code",
      "source": [
        "#Tercera Derivada\n",
        "f_tres= spy.diff(f_dos, x)\n",
        "\n",
        "print(f_tres)"
      ],
      "metadata": {
        "id": "Ewkov7ZTO7Ox",
        "outputId": "2944c0ed-b6d2-4aeb-ca40-d017db8c02b1",
        "colab": {
          "base_uri": "https://localhost:8080/"
        }
      },
      "execution_count": 16,
      "outputs": [
        {
          "output_type": "stream",
          "name": "stdout",
          "text": [
            "-exp(x/2)*sin(x/3)/24 + 23*exp(x/2)*cos(x/3)/108\n"
          ]
        }
      ]
    },
    {
      "cell_type": "code",
      "source": [
        "#Cuarta Derivada\n",
        "f_cuatro= spy.diff(f_tres, x)\n",
        "\n",
        "print(f_cuatro)"
      ],
      "metadata": {
        "id": "6rppT24w236y",
        "outputId": "e67be32e-4613-42fc-b559-6e61c9731578",
        "colab": {
          "base_uri": "https://localhost:8080/"
        }
      },
      "execution_count": 17,
      "outputs": [
        {
          "output_type": "stream",
          "name": "stdout",
          "text": [
            "-119*exp(x/2)*sin(x/3)/1296 + 5*exp(x/2)*cos(x/3)/54\n"
          ]
        }
      ]
    },
    {
      "cell_type": "code",
      "source": [
        "# Valores del eje X que toma el gráfico.\n",
        "x=np.linspace(-20, 20,400)"
      ],
      "metadata": {
        "id": "0z7ux5TeAU0T"
      },
      "execution_count": 29,
      "outputs": []
    },
    {
      "cell_type": "code",
      "source": [
        "# Graficar ambas funciones.\n",
        "plt.plot(x, f(x))\n",
        "plt.plot(x, f_uno(x))\n",
        "plt.axhline(0, color=\"green\")\n",
        "plt.axvline(0, color=\"green\")\n",
        "plt.xlim(-5, 20)\n",
        "plt.ylim(-60, 30)\n",
        "#plt.savefig(\"output.png\") # Guardar gráfico como imágen PNG.\n",
        "# Mostrarlo.\n",
        "plt.show()"
      ],
      "metadata": {
        "id": "yfj1whKE_zQA",
        "outputId": "dc9bfbb9-5096-4e99-ea34-b85f08610fa3",
        "colab": {
          "base_uri": "https://localhost:8080/",
          "height": 624
        }
      },
      "execution_count": 43,
      "outputs": [
        {
          "output_type": "error",
          "ename": "TypeError",
          "evalue": "'Add' object is not callable",
          "traceback": [
            "\u001b[0;31m---------------------------------------------------------------------------\u001b[0m",
            "\u001b[0;31mTypeError\u001b[0m                                 Traceback (most recent call last)",
            "\u001b[0;32m<ipython-input-43-416ed818af44>\u001b[0m in \u001b[0;36m<cell line: 3>\u001b[0;34m()\u001b[0m\n\u001b[1;32m      1\u001b[0m \u001b[0;31m# Graficar ambas funciones.\u001b[0m\u001b[0;34m\u001b[0m\u001b[0;34m\u001b[0m\u001b[0m\n\u001b[1;32m      2\u001b[0m \u001b[0mplt\u001b[0m\u001b[0;34m.\u001b[0m\u001b[0mplot\u001b[0m\u001b[0;34m(\u001b[0m\u001b[0mx\u001b[0m\u001b[0;34m,\u001b[0m \u001b[0mf\u001b[0m\u001b[0;34m(\u001b[0m\u001b[0mx\u001b[0m\u001b[0;34m)\u001b[0m\u001b[0;34m)\u001b[0m\u001b[0;34m\u001b[0m\u001b[0;34m\u001b[0m\u001b[0m\n\u001b[0;32m----> 3\u001b[0;31m \u001b[0mplt\u001b[0m\u001b[0;34m.\u001b[0m\u001b[0mplot\u001b[0m\u001b[0;34m(\u001b[0m\u001b[0mx\u001b[0m\u001b[0;34m,\u001b[0m \u001b[0mf_uno\u001b[0m\u001b[0;34m(\u001b[0m\u001b[0mx\u001b[0m\u001b[0;34m)\u001b[0m\u001b[0;34m)\u001b[0m\u001b[0;34m\u001b[0m\u001b[0;34m\u001b[0m\u001b[0m\n\u001b[0m\u001b[1;32m      4\u001b[0m \u001b[0mplt\u001b[0m\u001b[0;34m.\u001b[0m\u001b[0maxhline\u001b[0m\u001b[0;34m(\u001b[0m\u001b[0;36m0\u001b[0m\u001b[0;34m,\u001b[0m \u001b[0mcolor\u001b[0m\u001b[0;34m=\u001b[0m\u001b[0;34m\"green\"\u001b[0m\u001b[0;34m)\u001b[0m\u001b[0;34m\u001b[0m\u001b[0;34m\u001b[0m\u001b[0m\n\u001b[1;32m      5\u001b[0m \u001b[0mplt\u001b[0m\u001b[0;34m.\u001b[0m\u001b[0maxvline\u001b[0m\u001b[0;34m(\u001b[0m\u001b[0;36m0\u001b[0m\u001b[0;34m,\u001b[0m \u001b[0mcolor\u001b[0m\u001b[0;34m=\u001b[0m\u001b[0;34m\"green\"\u001b[0m\u001b[0;34m)\u001b[0m\u001b[0;34m\u001b[0m\u001b[0;34m\u001b[0m\u001b[0m\n",
            "\u001b[0;31mTypeError\u001b[0m: 'Add' object is not callable"
          ]
        },
        {
          "output_type": "display_data",
          "data": {
            "text/plain": [
              "<Figure size 640x480 with 1 Axes>"
            ],
            "image/png": "[encoded data removed]"
          },
          "metadata": {}
        }
      ]
    }
  ]
}