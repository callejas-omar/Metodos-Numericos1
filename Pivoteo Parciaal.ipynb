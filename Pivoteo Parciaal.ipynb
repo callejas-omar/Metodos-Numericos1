{
  "nbformat": 4,
  "nbformat_minor": 0,
  "metadata": {
    "colab": {
      "provenance": [],
      "authorship_tag": "ABX9TyPubYdx/Xf3t/Nnl5avK2Qx",
      "include_colab_link": true
    },
    "kernelspec": {
      "name": "python3",
      "display_name": "Python 3"
    },
    "language_info": {
      "name": "python"
    }
  },
  "cells": [
    {
      "cell_type": "markdown",
      "metadata": {
        "id": "view-in-github",
        "colab_type": "text"
      },
      "source": [
        "<a href=\"https://colab.research.google.com/github/callejas-omar/Metodos-Numericos1/blob/main/Pivoteo%20Parciaal.ipynb\" target=\"_parent\"><img src=\"https://colab.research.google.com/assets/colab-badge.svg\" alt=\"Open In Colab\"/></a>"
      ]
    },
    {
      "cell_type": "markdown",
      "source": [
        "#Pivoteo Parcial\n",
        "El método de Pivoteo Parcial es una técnica utilizada en la resolución de sistemas de ecuaciones lineales mediante la eliminación gaussiana. Su objetivo principal es reducir los errores de redondeo que pueden ocurrir durante el proceso de cálculo, especialmente cuando se trabaja con números de punto flotante en computadoras.\\\n",
        "Su pasos son:\n",
        "\n",
        "1.   Seleccionar un pivote\n",
        "2.   Intercambiar Filas\n",
        "3.   Aplicar Eliminacion Gaussiana.\n",
        "\n",
        "El Pivoteo Parcial es una técnica sencilla pero efectiva que se utiliza en la eliminación gaussiana para mejorar la precisión y la estabilidad numérica del proceso de resolución de sistemas de ecuaciones lineales."
      ],
      "metadata": {
        "id": "lUzXJ6CDRrUS"
      }
    },
    {
      "source": [
        "import numpy as np\n",
        "\n",
        "# Define el sistema de ecuaciones como una matriz aumentada\n",
        "A = np.array([[0.003000, 59.14, 59.17],\n",
        "              [5.291, -6.130, 46.78]])\n",
        "\n",
        "# Implementa el método de Pivoteo Parcial\n",
        "n = A.shape[0]  # Número de ecuaciones\n",
        "for k in range(n - 1):\n",
        "    # Encuentra el pivote máximo en la columna k\n",
        "    max_index = k + np.argmax(abs(A[k:, k]))\n",
        "\n",
        "    # Intercambia las filas si es necesario\n",
        "    if max_index != k:\n",
        "        A[[k, max_index]] = A[[max_index, k]]\n",
        "\n",
        "    # Eliminación gaussiana\n",
        "    for i in range(k + 1, n):\n",
        "        factor = A[i, k] / A[k, k]\n",
        "        for j in range(k, A.shape[1]):\n",
        "            A[i, j] -= factor * A[k, j]\n",
        "\n",
        "# Resuelve el sistema mediante sustitución regresiva\n",
        "x = np.zeros(n)\n",
        "x[n - 1] = A[n - 1, n] / A[n - 1, n - 1]\n",
        "for i in range(n - 2, -1, -1):\n",
        "    x[i] = (A[i, n] - np.sum(A[i, i + 1:n] * x[i + 1:n])) / A[i, i]\n",
        "\n",
        "# Imprime las soluciones\n",
        "print(\"Solución 1 (x1):\", x[0])\n",
        "print(\"Solución 2 (x2):\", x[1])"
      ],
      "cell_type": "code",
      "metadata": {
        "colab": {
          "base_uri": "https://localhost:8080/"
        },
        "id": "vkJd9jarRiNY",
        "outputId": "37691f92-801d-40ae-f3a6-c96d1b0f8b9e"
      },
      "execution_count": 1,
      "outputs": [
        {
          "output_type": "stream",
          "name": "stdout",
          "text": [
            "Solución 1 (x1): 10.0\n",
            "Solución 2 (x2): 1.0\n"
          ]
        }
      ]
    }
  ]
}