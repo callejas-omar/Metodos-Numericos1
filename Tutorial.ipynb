{
  "nbformat": 4,
  "nbformat_minor": 0,
  "metadata": {
    "colab": {
      "provenance": [],
      "authorship_tag": "ABX9TyM0Us40rfY/V6X1vPFZI0uC",
      "include_colab_link": true
    },
    "kernelspec": {
      "name": "python3",
      "display_name": "Python 3"
    },
    "language_info": {
      "name": "python"
    }
  },
  "cells": [
    {
      "cell_type": "markdown",
      "metadata": {
        "id": "view-in-github",
        "colab_type": "text"
      },
      "source": [
        "<a href=\"https://colab.research.google.com/github/callejas-omar/Metodos-Numericos1/blob/main/Tutorial.ipynb\" target=\"_parent\"><img src=\"https://colab.research.google.com/assets/colab-badge.svg\" alt=\"Open In Colab\"/></a>"
      ]
    },
    {
      "cell_type": "markdown",
      "source": [
        "# Libreria Numpy\n",
        "##¿Para que sirve\n",
        "Esta libreria se especializa en el calculo numerico y anilisis de datos, sobre todo si se trata de una gran cantidad de datos. \\\\\n",
        "Esta libreria integra una nueva clase de objetos llamados $arrays$, los cuales permiten representar mismos tipos de datos pero en varias dimensiones, ademas de funciones donde su manipulacion es facil de hacer. \\\\\n",
        "\n",
        "Una de las ventajas de esta libreria en comparacion a otras en Python es que su procesamiento con los $arays$ es mucho mas rapido que con otras, lo cual, lo hace preferible en utilizarlo en el procesamiento de vectores y matrices de unas dimensiones grandes. \\\\\n",
        "\n",
        "##¿Que es un $array$?\n",
        "Es una estructura de dato del mismo tipo,organizadas de diversas formas, dependiendo de las dimensiones; pueden ser desde tablas, etc.\n",
        "\n",
        "Para acceder a los elementos contenidos en un array se usan índices al igual que para acceder a los elementos de una lista, pero indicando los índices de cada dimensión separados por comas. \\\\\n",
        "\n",
        "Al igual que para listas, los índices de cada dimensión comienzan en 0.\n",
        "\n"
      ],
      "metadata": {
        "id": "6dNqXJ9FRF8M"
      }
    },
    {
      "cell_type": "code",
      "source": [
        "import numpy as np"
      ],
      "metadata": {
        "id": "8AWkB8BeXmql"
      },
      "execution_count": 3,
      "outputs": []
    },
    {
      "cell_type": "markdown",
      "source": [
        "##Operaciones con $Arrays$\n",
        "Existen dos formas de realizar operaciones matemáticas con arrays: a nivel de elemento y a nivel de array.\n",
        "\n",
        "Las operaciones a nivel de elemento operan los elementos que ocupan la misma posición en dos arrays. Se necesitan, por tanto, dos arrays con las mismas dimensiones y el resultado es una array de la misma dimensión.\n",
        "\n",
        "Los operadores mamemáticos $+$, $-$, $*$, $/$, $%$, $**$ se utilizan para la realizar suma, resta, producto, cociente, resto y potencia a nivel de elemento."
      ],
      "metadata": {
        "id": "nIQHeWfSRGEE"
      }
    },
    {
      "cell_type": "markdown",
      "source": [
        "##Instalacion de la Libreria Numpy\n",
        "El siguiente codigo sirve para instalar la libreria Numpy, en caso de no tenerlo instalado, asi que este codigo, nos servira para poder usar en totalidad la libreria."
      ],
      "metadata": {
        "id": "RcMyB6SXWWCM"
      }
    },
    {
      "cell_type": "code",
      "source": [
        "# !pip install numpy"
      ],
      "metadata": {
        "id": "LXyLb0bQWwJA"
      },
      "execution_count": 4,
      "outputs": []
    },
    {
      "cell_type": "markdown",
      "source": [
        "Ahora veamos ejemplos de las cosas que ya mencionamos en estos momentos...\n"
      ],
      "metadata": {
        "id": "jdPVKyeZXKaX"
      }
    },
    {
      "cell_type": "code",
      "source": [
        "#Un array Unidimensional\n",
        "array_1d = np.array([1,2,3,4,5])\n",
        "print(\"array_1d: \"  ,array_1d)\n",
        "\n",
        "#Un array Bidimensional\n",
        "array_2d = np.array([[1,2,3],[4,5,6]])\n",
        "print(\"array_2d: \"  ,array_2d)"
      ],
      "metadata": {
        "colab": {
          "base_uri": "https://localhost:8080/"
        },
        "id": "TG7X8qBLXUbH",
        "outputId": "5e2caf77-23eb-4a69-bbb0-d2448e9ccce4"
      },
      "execution_count": 6,
      "outputs": [
        {
          "output_type": "stream",
          "name": "stdout",
          "text": [
            "array_1d:  [1 2 3 4 5]\n",
            "array_2d:  [[1 2 3]\n",
            " [4 5 6]]\n"
          ]
        }
      ]
    },
    {
      "cell_type": "markdown",
      "source": [
        "Una cosa a mencionar, es que los arrays tienen propiedades utiles como: su forma ($shape$), numero de dimensiones ($ndim$), tamaño ($size$), y tipo de datos ($dtype$). \\\\\n",
        "Ejemplo:"
      ],
      "metadata": {
        "id": "h-gFo5tAX9cv"
      }
    },
    {
      "cell_type": "code",
      "source": [
        "print(\"Forma del array\", array_2d.shape)\n",
        "print(\"Numero de dimensiones del array\", array_2d.ndim)\n",
        "print(\"Tamaño del array\", array_2d.size)\n",
        "print(\"Tipo de datos del array\", array_2d.dtype)"
      ],
      "metadata": {
        "colab": {
          "base_uri": "https://localhost:8080/"
        },
        "id": "J86zVqN4YYR7",
        "outputId": "3d14cace-9379-4f05-c546-4b763330dd09"
      },
      "execution_count": 8,
      "outputs": [
        {
          "output_type": "stream",
          "name": "stdout",
          "text": [
            "Forma del array (2, 3)\n",
            "Numero de dimensiones del array 2\n",
            "Tamaño del array 6\n",
            "Tipo de datos del array int64\n"
          ]
        }
      ]
    },
    {
      "cell_type": "markdown",
      "source": [
        "Como mencionamos anteriormente, la libreria Numpy nos facilita con operaciones en datos de una gran dimension, en este caso, como matrices; veamos un ejemplo de multiplicacion de matrices y del calculo de la transpuesta de esta."
      ],
      "metadata": {
        "id": "DcPD1Np7YytY"
      }
    },
    {
      "cell_type": "code",
      "source": [
        "matriz_a = np.array([[1,2,3],[4,5,6]])\n",
        "matriz_b = np.array([[1,2],[3,4],[5,6]])\n",
        "\n",
        "#Multiplicacion de matrices\n",
        "product = np.dot(matriz_a,matriz_b)\n",
        "print(\"Multiplicacion de matrices: \\n\", product)\n",
        "\n",
        "#Transpuesta de una matriz\n",
        "print(\"Transpuesta de la matriz A: \\n\", np.transpose(matriz_a))\n",
        "\n",
        "#Transpuesta de una matriz\n",
        "print(\"Transpuesta de la matriz B: \\n\", np.transpose(matriz_b))"
      ],
      "metadata": {
        "colab": {
          "base_uri": "https://localhost:8080/"
        },
        "id": "UdfU_JfIYxa-",
        "outputId": "e0d54d96-1eb2-435b-dfed-113e0e3b48b6"
      },
      "execution_count": 10,
      "outputs": [
        {
          "output_type": "stream",
          "name": "stdout",
          "text": [
            "Multiplicacion de matrices: \n",
            " [[22 28]\n",
            " [49 64]]\n",
            "Transpuesta de la matriz A: \n",
            " [[1 4]\n",
            " [2 5]\n",
            " [3 6]]\n",
            "Transpuesta de la matriz B: \n",
            " [[1 3 5]\n",
            " [2 4 6]]\n"
          ]
        }
      ]
    },
    {
      "cell_type": "markdown",
      "source": [
        "Y asi podemos usar la libreria Numpy, pero por el moemnto estas son las cosas basicas que podemos hacer con ellas."
      ],
      "metadata": {
        "id": "rwx0p4KxaE-S"
      }
    }
  ]
}