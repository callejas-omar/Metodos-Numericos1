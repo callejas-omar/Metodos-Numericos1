{
  "nbformat": 4,
  "nbformat_minor": 0,
  "metadata": {
    "colab": {
      "provenance": [],
      "authorship_tag": "ABX9TyM7/Lxchp/dbutp8sLyYNlt",
      "include_colab_link": true
    },
    "kernelspec": {
      "name": "python3",
      "display_name": "Python 3"
    },
    "language_info": {
      "name": "python"
    }
  },
  "cells": [
    {
      "cell_type": "markdown",
      "metadata": {
        "id": "view-in-github",
        "colab_type": "text"
      },
      "source": [
        "<a href=\"https://colab.research.google.com/github/callejas-omar/Metodos-Numericos1/blob/main/Metodo%20Hermite.ipynb\" target=\"_parent\"><img src=\"https://colab.research.google.com/assets/colab-badge.svg\" alt=\"Open In Colab\"/></a>"
      ]
    },
    {
      "cell_type": "code",
      "source": [],
      "metadata": {
        "id": "hEJZVrQHfq0o"
      },
      "execution_count": null,
      "outputs": []
    },
    {
      "source": [
        "#Utilizaremos la biblioteca NumPy, ya que nos permite trabajar con arreglos matematicos.\n",
        "#Ademas que es eficiente para realizar operaciones matematicas\n",
        "import numpy as np"
      ],
      "cell_type": "code",
      "metadata": {
        "id": "-8FAL0YFSs_Z"
      },
      "execution_count": null,
      "outputs": []
    },
    {
      "cell_type": "markdown",
      "source": [
        "##Polinomio de Hermite\n",
        "$Problema$ \\\\\n",
        "Use el polinomio de Hermite que concuerda con los datos listados en la tabla (pagina 101) para encontrar una aproximacion de $f(1.5)$ \\\\\n"
      ],
      "metadata": {
        "id": "yXJXLWk-WwOe"
      }
    },
    {
      "source": [
        "\n",
        "x = np.array([1.3, 1.6, 1.9])  # Valores de x\n",
        "fx = np.array([0.6200860, 0.4554022, 0.2818186])  # Valores de f(x)\n",
        "fpx = np.array([-0.5220232, -0.5698959, -0.5811571])  # Valores de f'(x)"
      ],
      "cell_type": "code",
      "metadata": {
        "id": "1SiEJt8zSuJB"
      },
      "execution_count": null,
      "outputs": []
    },
    {
      "source": [
        "n = len(x)  # Número de puntos\n",
        "z = np.zeros(2*n)  # Arreglo para almacenar los puntos intermedios\n",
        "Q = np.zeros((2*n, 2*n))  # Matriz para almacenar los coeficientes de interpolación\n",
        "\n",
        "for i in range(n):\n",
        "  z[2*i] = x[i]\n",
        "  z[2*i+1] = x[i]\n",
        "  Q[2*i, 0] = fx[i]\n",
        "  Q[2*i+1, 0] = fx[i]\n",
        "  Q[2*i+1, 1] = fpx[i]\n",
        "  if i != 0:\n",
        "    Q[2*i, 1] = (Q[2*i, 0] - Q[2*i-1, 0]) / (z[2*i] - z[2*i-1])\n",
        "\n",
        "for i in range(2, 2*n):\n",
        "  for j in range(2, i+1):\n",
        "    Q[i, j] = (Q[i, j-1] - Q[i-1, j-1]) / (z[i] - z[i-j])"
      ],
      "cell_type": "code",
      "metadata": {
        "id": "qpHvyEpsSu52"
      },
      "execution_count": null,
      "outputs": []
    },
    {
      "source": [
        "def hermite_interpolation(x_interp):\n",
        "  result = Q[0, 0]  # Valor inicial de la interpolación\n",
        "  for i in range(1, 2*n):  # Recorrer los coeficientes de interpolación\n",
        "    term = Q[i, i]  # Coeficiente actual\n",
        "    for j in range(i):  # Multiplicar los puntos intermedios anteriores\n",
        "      term = term * (x_interp - z[j])  # Actualizar el término de interpolación\n",
        "    result = result + term  # Agregar el término a la interpolación final\n",
        "  return result  # Devolver el valor interpolado"
      ],
      "cell_type": "code",
      "metadata": {
        "id": "fN6WNNpeSvpZ"
      },
      "execution_count": null,
      "outputs": []
    },
    {
      "source": [
        "x_interp = 1.5  # Valor de x para interpolar\n",
        "interp_value = hermite_interpolation(x_interp)\n",
        "print(f\"El valor interpolado en x = {x_interp} es: {interp_value}\")  # Imprimir el valor interpolado"
      ],
      "cell_type": "code",
      "metadata": {
        "colab": {
          "base_uri": "https://localhost:8080/"
        },
        "id": "YYIGWpufSwRj",
        "outputId": "ad2879ec-1376-4b0d-8a03-f4a21e9855a6"
      },
      "execution_count": null,
      "outputs": [
        {
          "output_type": "stream",
          "name": "stdout",
          "text": [
            "El valor interpolado en x = 1.5 es: 0.5118277017283951\n"
          ]
        }
      ]
    }
  ]
}