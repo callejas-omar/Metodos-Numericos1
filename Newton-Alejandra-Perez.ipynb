{
  "nbformat": 4,
  "nbformat_minor": 0,
  "metadata": {
    "colab": {
      "provenance": [],
      "authorship_tag": "ABX9TyNRi67JieKqAsQ2wqnnU7Nj"
    },
    "kernelspec": {
      "name": "python3",
      "display_name": "Python 3"
    },
    "language_info": {
      "name": "python"
    }
  },
  "cells": [
    {
      "cell_type": "code",
      "execution_count": null,
      "metadata": {
        "id": "rq6S-x1GZrrg"
      },
      "outputs": [],
      "source": [
        "from math import *\n",
        "import numpy as np\n",
        "import matplotlib.pyplot as plt"
      ]
    },
    {
      "cell_type": "code",
      "source": [
        "#Definicion de f(x) y la derivada de f(x)\n",
        "def f(x):\n",
        "  return x**3 - x - 1\n",
        "\n",
        "def df(x):\n",
        "  return 3*x**2 - 1"
      ],
      "metadata": {
        "id": "odzAiefSZ6ju"
      },
      "execution_count": null,
      "outputs": []
    },
    {
      "cell_type": "markdown",
      "source": [
        "Al usar el metodo de Newton necesitamos primordialmente la funcion original (en este caso) $f(x)$ y la derivada de esta $f'(x)$, y estas son...\\\\\n",
        "\n",
        "$f(x) = x^3 - x - 1$\n",
        "\\\\\n",
        "\n",
        "$f'(x) = 3x^2 - 1$"
      ],
      "metadata": {
        "id": "5cwju_HtaVTH"
      }
    },
    {
      "cell_type": "code",
      "source": [
        "#Definimos lo que usaremos\n",
        "tol = 0.01 #tolerancia\n",
        "nmax = 100 #numero maximo de iteraciones"
      ],
      "metadata": {
        "id": "Iqt_R4giaT3p"
      },
      "execution_count": null,
      "outputs": []
    },
    {
      "cell_type": "code",
      "source": [
        "#Empezamos con Newton\n",
        "\n",
        "def newton(p0, tol):\n",
        "  resultados = [] #Resultados dentro de la funcion\n",
        "  #p0 = 1 #Punto dado en el problema\n",
        "  niter = 0 #Donde inicia la iteracion\n",
        "\n",
        "  while True:\n",
        "    p1 = p0 - (f(p0) / df(p0)) #Obtenemos p1\n",
        "    niter += 1 #Incrementamos la iteracion\n",
        "    resultados.append([niter, p1])\n",
        "    if abs(p1 - p0) < tol: #Calculamos el error\n",
        "      break\n",
        "    p0 = p1 #Actualizamos p0\n",
        "  return resultados #Retornamos los resultados\n",
        "\n",
        "p0 = 1 #Punto dado en el problema\n",
        "tol = 0.01 #Esta demas *borrar al final\n",
        "resultados = newton(p0, tol)\n",
        "\n",
        "print(\"Iteracion  |  Valor\")\n",
        "print(\"---------------------\")\n",
        "for iteracion, valor in resultados:\n",
        "    print(f\"{iteracion})       |  {valor:.6f}\")"
      ],
      "metadata": {
        "colab": {
          "base_uri": "https://localhost:8080/"
        },
        "id": "kc_4KtuTbSuY",
        "outputId": "be656fef-8abe-4df1-ea09-18755fa0a073"
      },
      "execution_count": null,
      "outputs": [
        {
          "output_type": "stream",
          "name": "stdout",
          "text": [
            "Iteracion  |  Valor\n",
            "---------------------\n",
            "1)       |  1.500000\n",
            "2)       |  1.347826\n",
            "3)       |  1.325200\n",
            "4)       |  1.324718\n"
          ]
        }
      ]
    },
    {
      "cell_type": "markdown",
      "source": [
        "Ya obtenidas $f(x)$ y $f'(x)$; y ademas teniendo como una aproximacion inicial $p0=1$, vamos a obtener $p1$ de la siguiente manera. \\\\\n",
        "\n",
        "$p1 = p0 - \\frac{f(p0)}{f'(p0)}$ \\\\\n",
        "\n",
        "Despues de obtener $p1$ vamos observar que pasa con el error \\\\\n",
        "\n",
        "$Error = |p1 - p0| < 0.01$ \\\\\n",
        "\n",
        "Si se cumple la formula se dice que $p1$ es la solucion aproximada, pero si no se cumple entonces, ahora tomaremos el valor de $p1$ como el valor inicial, es decir, $p0$ y ahora obtendremos el nuevo valor de $p1$, si seguimos con la sucesion, se expresaria de la siguiente forma: \\\\\n",
        "\n",
        "$p2 = p1 - \\frac{f(p1)}{f'(p1)}$ \\\\\n",
        "\n",
        "Y volveriamos a usar la fomula del error pero esta vez con $p1$ y $p2$; asi sucesivamente hasta que su desigualdad se cumpla."
      ],
      "metadata": {
        "id": "M1R6PzRcgoCC"
      }
    }
  ]
}