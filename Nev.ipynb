{
  "nbformat": 4,
  "nbformat_minor": 0,
  "metadata": {
    "colab": {
      "provenance": [],
      "authorship_tag": "ABX9TyPn189k/Z86NzuHhigxpDUE",
      "include_colab_link": true
    },
    "kernelspec": {
      "name": "python3",
      "display_name": "Python 3"
    },
    "language_info": {
      "name": "python"
    }
  },
  "cells": [
    {
      "cell_type": "markdown",
      "metadata": {
        "id": "view-in-github",
        "colab_type": "text"
      },
      "source": [
        "<a href=\"https://colab.research.google.com/github/callejas-omar/Metodos-Numericos1/blob/main/Nev.ipynb\" target=\"_parent\"><img src=\"https://colab.research.google.com/assets/colab-badge.svg\" alt=\"Open In Colab\"/></a>"
      ]
    },
    {
      "cell_type": "markdown",
      "source": [
        "# Tarea Metodo De Neville\n",
        "Este metodo se usa para poder encontrar el valor interpolado de una funcion ($f(x)$), en un punto especifico dado \"$x$\" utilizando un conjunto finito de puntos como por ejemplo: \\\\\n",
        "$x0,(f(x0)),x1,(f(x1)),...,(xn,f(Xn))$ \\\\\n",
        "Con estos, podemos generar un polinomio de interpolacion de una forma recursiva utilizando la siguiente formula: \\\\\n",
        "$Q_{i,j} = \\dfrac{(x - x_{i+j})Q_{i,j-1} - (x - x_i)Q_{i+1,j-1}}{x_i - x_{i+j} }$ \\\\\n"
      ],
      "metadata": {
        "id": "CRhMCzdBnT0k"
      }
    },
    {
      "cell_type": "code",
      "execution_count": 22,
      "metadata": {
        "id": "Mjc4s8PvmxiL"
      },
      "outputs": [],
      "source": [
        "\n",
        "from tabulate import tabulate\n",
        "def neville_with_pretty_table(x_point, y_point, x):\n",
        "    n = len(x_point)\n",
        "    Q = [[0] * n for _ in range(n)]\n",
        "\n",
        "    # Llenar la primera columna con los valores de y_points\n",
        "    for i in range(n):\n",
        "        Q[i][0] = y_point[i]\n",
        "\n",
        "    # Aplicar la fórmula de Neville y llenar la tabla\n",
        "    for j in range(1, n):\n",
        "        for i in range(n - j):\n",
        "            Q[i][j] = ((x - x_point[i + j]) * Q[i][j - 1] - (x - x_point[i]) * Q[i + 1][j - 1]) / (x_point[i] - x_point[i + j])\n",
        "\n",
        "    # Crear una tabla\n",
        "    table = []\n",
        "    headers = [f\"Q_{i}\" for i in range(n)]\n",
        "    for i in range(n):\n",
        "        row = [f\"{Q[i][j]:.7f}\" if j <= n - i - 1 else \"\" for j in range(n)]\n",
        "        table.append(row)\n",
        "\n",
        "    # Imprimir la tabla\n",
        "    print(\"Tabla de Neville:\")\n",
        "    print(tabulate(table, headers=headers, tablefmt=\"grid\"))\n",
        "\n",
        "    return Q[0][n - 1]  # Valor final en la tabla"
      ]
    },
    {
      "cell_type": "code",
      "source": [
        "    #Ejemplo\n",
        "    x_points = [1.0, 1.3, 1.6, 1.9, 2.2]\n",
        "    y_points = [0.7651977, 0.6200860, 0.4554022, 0.2818186, 0.1103623]\n",
        "    x = 1.5\n",
        "    resultado = neville_with_pretty_table(x_points, y_points, x)\n",
        "    print(f\"Valor interpolado en x={x} es {resultado:.7f}\")"
      ],
      "metadata": {
        "colab": {
          "base_uri": "https://localhost:8080/"
        },
        "id": "J_h_m1A_yBdK",
        "outputId": "45008e24-708c-45e5-ffab-7487806debbe"
      },
      "execution_count": 25,
      "outputs": [
        {
          "output_type": "stream",
          "name": "stdout",
          "text": [
            "Tabla de Neville:\n",
            "+----------+-----------+-----------+-----------+-----------+\n",
            "|      Q_0 | Q_1       | Q_2       | Q_3       | Q_4       |\n",
            "+==========+===========+===========+===========+===========+\n",
            "| 0.765198 | 0.5233449 | 0.5124715 | 0.5118127 | 0.5118200 |\n",
            "+----------+-----------+-----------+-----------+-----------+\n",
            "| 0.620086 | 0.5102968 | 0.5112857 | 0.5118302 |           |\n",
            "+----------+-----------+-----------+-----------+-----------+\n",
            "| 0.455402 | 0.5132634 | 0.5137361 |           |           |\n",
            "+----------+-----------+-----------+-----------+-----------+\n",
            "| 0.281819 | 0.5104270 |           |           |           |\n",
            "+----------+-----------+-----------+-----------+-----------+\n",
            "| 0.110362 |           |           |           |           |\n",
            "+----------+-----------+-----------+-----------+-----------+\n",
            "Valor interpolado en x=1.5 es 0.5118200\n"
          ]
        }
      ]
    },
    {
      "cell_type": "markdown",
      "source": [
        "El resultado fina, es nuestro polinomio evaluado en $x$"
      ],
      "metadata": {
        "id": "piDMur3j1pU6"
      }
    }
  ]
}